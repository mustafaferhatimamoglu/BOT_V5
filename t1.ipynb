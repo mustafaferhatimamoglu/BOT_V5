{
 "cells": [
  {
   "cell_type": "code",
   "execution_count": 20,
   "metadata": {},
   "outputs": [
    {
     "name": "stdout",
     "output_type": "stream",
     "text": [
      "Start0\n"
     ]
    }
   ],
   "source": [
    "print('Start0')\n",
    "\n",
    "import datetime\n",
    "\n",
    "import time"
   ]
  },
  {
   "cell_type": "code",
   "execution_count": 5,
   "metadata": {},
   "outputs": [
    {
     "name": "stdout",
     "output_type": "stream",
     "text": [
      "imported pymssql\n"
     ]
    }
   ],
   "source": [
    "#importing the library\n",
    "import pymssql\n",
    "print('imported pymssql')"
   ]
  },
  {
   "cell_type": "code",
   "execution_count": 6,
   "metadata": {},
   "outputs": [
    {
     "name": "stdout",
     "output_type": "stream",
     "text": [
      "Connection Established\n",
      "Cursor Established\n"
     ]
    }
   ],
   "source": [
    "conn = pymssql.connect( \n",
    "    server='172.19.208.1', \n",
    "    user='sa', \n",
    "    password='sapass',\n",
    "    database='BINANCE_V3_001',\n",
    "    as_dict=True \n",
    ")\n",
    "print('Connection Established')\n",
    "cursor = conn.cursor()\n",
    "print('Cursor Established')"
   ]
  },
  {
   "cell_type": "code",
   "execution_count": 8,
   "metadata": {},
   "outputs": [
    {
     "name": "stdout",
     "output_type": "stream",
     "text": [
      "imported binance.spot\n"
     ]
    }
   ],
   "source": [
    "from binance.spot import Spot\n",
    "client = Spot()\n",
    "print('imported binance.spot')"
   ]
  },
  {
   "cell_type": "code",
   "execution_count": 11,
   "metadata": {},
   "outputs": [
    {
     "name": "stdout",
     "output_type": "stream",
     "text": [
      "imported CMFutures\n"
     ]
    }
   ],
   "source": [
    "from binance.cm_futures import CMFutures\n",
    "cm_futures_client = CMFutures()\n",
    "print('imported CMFutures')"
   ]
  },
  {
   "cell_type": "code",
   "execution_count": 13,
   "metadata": {},
   "outputs": [
    {
     "name": "stdout",
     "output_type": "stream",
     "text": [
      "{'serverTime': 1702820299355}\n"
     ]
    }
   ],
   "source": [
    "print(client.time())"
   ]
  },
  {
   "cell_type": "code",
   "execution_count": 25,
   "metadata": {},
   "outputs": [
    {
     "ename": "AttributeError",
     "evalue": "'dict' object has no attribute 'Split'",
     "output_type": "error",
     "traceback": [
      "\u001b[0;31m---------------------------------------------------------------------------\u001b[0m",
      "\u001b[0;31mAttributeError\u001b[0m                            Traceback (most recent call last)",
      "Cell \u001b[0;32mIn[25], line 2\u001b[0m\n\u001b[1;32m      1\u001b[0m string_BinanceTime \u001b[38;5;241m=\u001b[39m cm_futures_client\u001b[38;5;241m.\u001b[39mtime()\n\u001b[0;32m----> 2\u001b[0m string_BinanceTime \u001b[38;5;241m=\u001b[39m \u001b[43mstring_BinanceTime\u001b[49m\u001b[38;5;241;43m.\u001b[39;49m\u001b[43mSplit\u001b[49m(\u001b[38;5;124m'\u001b[39m\u001b[38;5;124m:\u001b[39m\u001b[38;5;124m'\u001b[39m)[\u001b[38;5;241m1\u001b[39m]\n\u001b[1;32m      3\u001b[0m \u001b[38;5;28mprint\u001b[39m(cm_futures_client\u001b[38;5;241m.\u001b[39mtime())\n\u001b[1;32m      4\u001b[0m \u001b[38;5;28mprint\u001b[39m(string_BinanceTime)\n",
      "\u001b[0;31mAttributeError\u001b[0m: 'dict' object has no attribute 'Split'"
     ]
    }
   ],
   "source": [
    "string_BinanceTime = cm_futures_client.time()\n",
    "string_BinanceTime = string_BinanceTime.Split(':')[1]\n",
    "print(cm_futures_client.time())\n",
    "print(string_BinanceTime)\n",
    "print(datetime.datetime.fromtimestamp(int(\"1518308894652\")/1000))"
   ]
  },
  {
   "cell_type": "code",
   "execution_count": 16,
   "metadata": {},
   "outputs": [
    {
     "name": "stdout",
     "output_type": "stream",
     "text": [
      "14400000\n"
     ]
    }
   ],
   "source": [
    "Time_4_Hour = 4 * 60 * 60 * 1000;\n",
    "print(Time_4_Hour)"
   ]
  },
  {
   "cell_type": "code",
   "execution_count": 15,
   "metadata": {},
   "outputs": [
    {
     "name": "stdout",
     "output_type": "stream",
     "text": [
      "[[1702818000000, '241.50000000', '241.50000000', '240.30000000', '240.90000000', '31049.02500000', 1702821599999, '7479585.16280000', 11664, '14226.22700000', '3427418.78110000', '0']]\n"
     ]
    }
   ],
   "source": [
    "# Get klines of BTCUSDT at 1m interval\n",
    "#print(client.klines(\"BTCUSDT\", \"1m\"))\n",
    "# Get last 10 klines of BNBUSDT at 1h interval\n",
    "print(client.klines(\"BNBUSDT\", \"1h\", limit=1))"
   ]
  },
  {
   "cell_type": "code",
   "execution_count": null,
   "metadata": {},
   "outputs": [],
   "source": [
    "import time\n",
    "for x in range(60):\n",
    "  #time.sleep(0.1)\n",
    "  print(x)"
   ]
  },
  {
   "cell_type": "code",
   "execution_count": null,
   "metadata": {},
   "outputs": [],
   "source": []
  }
 ],
 "metadata": {
  "kernelspec": {
   "display_name": "Python 3 (ipykernel)",
   "language": "python",
   "name": "python3"
  },
  "language_info": {
   "codemirror_mode": {
    "name": "ipython",
    "version": 3
   },
   "file_extension": ".py",
   "mimetype": "text/x-python",
   "name": "python",
   "nbconvert_exporter": "python",
   "pygments_lexer": "ipython3",
   "version": "3.11.0rc1"
  }
 },
 "nbformat": 4,
 "nbformat_minor": 2
}
