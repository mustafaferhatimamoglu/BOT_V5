{
 "cells": [
  {
   "cell_type": "code",
   "execution_count": 1,
   "metadata": {},
   "outputs": [
    {
     "name": "stdout",
     "output_type": "stream",
     "text": [
      "Start0\n",
      "Connection Established\n",
      "Cursor Established\n",
      "imported binance.spot\n"
     ]
    }
   ],
   "source": [
    "print('Start0')\n",
    "\n",
    "import datetime\n",
    "import time\n",
    "#importing the library\n",
    "import pymssql\n",
    "conn = pymssql.connect( \n",
    "    server='172.19.208.1', \n",
    "    user='sa', \n",
    "    password='sapass',\n",
    "    database='BINANCE_V3_001',\n",
    "    as_dict=True \n",
    ")\n",
    "print('Connection Established')\n",
    "cursor = conn.cursor()\n",
    "print('Cursor Established')\n",
    "\n",
    "from binance.spot import Spot\n",
    "client = Spot()\n",
    "print('imported binance.spot')\n"
   ]
  },
  {
   "cell_type": "code",
   "execution_count": 7,
   "metadata": {},
   "outputs": [
    {
     "name": "stdout",
     "output_type": "stream",
     "text": [
      "The name is 1703009711047\n",
      "2023-12-19 21:15:11\n"
     ]
    }
   ],
   "source": [
    "#print(client.time())\n",
    "\n",
    "import json\n",
    "dict_BinanceTime = client.time()\n",
    "string_BinanceTime = json.dumps(dict_BinanceTime)\n",
    "parsed_json = json.loads(string_BinanceTime)\n",
    "\n",
    "print(f\"The name is {parsed_json['serverTime']}\")\n",
    "print(datetime.datetime.fromtimestamp(int((parsed_json['serverTime'])/1000)+10800))"
   ]
  },
  {
   "cell_type": "code",
   "execution_count": 5,
   "metadata": {},
   "outputs": [
    {
     "name": "stdout",
     "output_type": "stream",
     "text": [
      "14400000\n"
     ]
    }
   ],
   "source": [
    "Time_4_Hour = 4 * 60 * 60 * 1000;\n",
    "print(Time_4_Hour)"
   ]
  },
  {
   "cell_type": "code",
   "execution_count": 13,
   "metadata": {},
   "outputs": [
    {
     "name": "stdout",
     "output_type": "stream",
     "text": [
      "[[1703001600000, '251.50000000', '254.40000000', '250.40000000', '252.80000000', '263301.50600000', 1703015999999, '66566081.07440000', 73678, '140539.56400000', '35536586.64660000', '0']]\n"
     ]
    }
   ],
   "source": [
    "print(client.klines(\"BNBUSDT\", \"4h\", limit=1))\n",
    "#print(client.futures_symbol_ticker(symbol=\"BTCUSDT\")['price'])"
   ]
  },
  {
   "cell_type": "code",
   "execution_count": 14,
   "metadata": {},
   "outputs": [
    {
     "name": "stdout",
     "output_type": "stream",
     "text": [
      "imported CMFutures\n"
     ]
    }
   ],
   "source": [
    "from binance.cm_futures import CMFutures\n",
    "cm_futures_client = CMFutures()\n",
    "print('imported CMFutures')"
   ]
  },
  {
   "cell_type": "code",
   "execution_count": 28,
   "metadata": {},
   "outputs": [
    {
     "name": "stdout",
     "output_type": "stream",
     "text": [
      "[[1703016360000, '42344.2', '42379.9', '42344.2', '42363.5', '8671', 1703016419999, '20.46483276', 215, '4883', '11.52587940', '0']]\n"
     ]
    }
   ],
   "source": [
    "#!/usr/bin/env python\n",
    "import logging\n",
    "from binance.cm_futures import CMFutures\n",
    "from binance.lib.utils import config_logging\n",
    "\n",
    "config_logging(logging, logging.DEBUG)\n",
    "\n",
    "cm_futures_client = CMFutures()\n",
    "\n",
    "logging.info(cm_futures_client.klines(\"BTCUSD_PERP\", \"1m\"))\n",
    "print(cm_futures_client.klines(\"BTCUSD_PERP\", \"1m\",limit=1))"
   ]
  },
  {
   "cell_type": "code",
   "execution_count": 29,
   "metadata": {},
   "outputs": [
    {
     "name": "stdout",
     "output_type": "stream",
     "text": [
      "[[1703019060000, '42243.50', '42265.10', '42243.50', '42262.60', '111.425', 1703019119999, '4708329.53630', 1302, '59.401', '2509961.19650', '0'], [1703019120000, '42262.60', '42263.60', '42240.10', '42257.10', '77.227', 1703019179999, '3263142.71160', 1039, '23.316', '985124.03720', '0'], [1703019180000, '42257.00', '42257.40', '42231.60', '42235.00', '64.211', 1703019239999, '2712179.41520', 943, '27.834', '1175551.50800', '0'], [1703019240000, '42235.00', '42239.60', '42220.20', '42220.20', '84.621', 1703019299999, '3573554.01770', 1000, '24.594', '1038663.18020', '0'], [1703019300000, '42220.20', '42280.00', '42220.20', '42263.60', '114.769', 1703019359999, '4849406.62280', 1745, '66.700', '2817942.64430', '0'], [1703019360000, '42263.60', '42270.00', '42251.00', '42268.00', '58.763', 1703019419999, '2483392.63760', 881, '32.832', '1387500.75440', '0'], [1703019420000, '42268.10', '42292.00', '42268.10', '42290.30', '63.024', 1703019479999, '2665131.97580', 1166, '32.563', '1376967.61040', '0'], [1703019480000, '42290.30', '42302.90', '42290.20', '42292.00', '73.942', 1703019539999, '3127606.08720', 982, '42.278', '1788258.43060', '0'], [1703019540000, '42292.00', '42292.10', '42250.10', '42256.20', '143.712', 1703019599999, '6075114.84830', 2057, '53.256', '2251000.32130', '0'], [1703019600000, '42256.20', '42262.60', '42242.50', '42242.50', '36.352', 1703019659999, '1536081.18080', 482, '4.204', '177654.05720', '0']]\n"
     ]
    }
   ],
   "source": [
    "#!/usr/bin/env python\n",
    "import logging\n",
    "from binance.um_futures import UMFutures\n",
    "from binance.lib.utils import config_logging\n",
    "\n",
    "config_logging(logging, logging.DEBUG)\n",
    "\n",
    "um_futures_client = UMFutures()\n",
    "\n",
    "logging.info(um_futures_client.klines(\"BTCUSDT\", \"1m\"))\n",
    "print(um_futures_client.klines(\"BTCUSDT\", \"1m\",limit=10))"
   ]
  },
  {
   "cell_type": "code",
   "execution_count": 31,
   "metadata": {},
   "outputs": [
    {
     "name": "stdout",
     "output_type": "stream",
     "text": [
      "Open Time: 1703019420000, Open Price: 42268.10, High Price: 42292.00, Low Price: 42268.10, Close Price: 42290.30, Volume: 63.024, Close Time: 1703019479999, Quote Asset Volume: 2665131.97580, Number of Trades: 1166, Taker Buy Base Asset Volume: 32.563, Taker Buy Quote Asset Volume: 1376967.61040, Ignore: 0\n",
      "Open Time: 1703019480000, Open Price: 42290.30, High Price: 42302.90, Low Price: 42290.20, Close Price: 42292.00, Volume: 73.942, Close Time: 1703019539999, Quote Asset Volume: 3127606.08720, Number of Trades: 982, Taker Buy Base Asset Volume: 42.278, Taker Buy Quote Asset Volume: 1788258.43060, Ignore: 0\n",
      "Open Time: 1703019540000, Open Price: 42292.00, High Price: 42292.10, Low Price: 42250.10, Close Price: 42256.20, Volume: 143.712, Close Time: 1703019599999, Quote Asset Volume: 6075114.84830, Number of Trades: 2057, Taker Buy Base Asset Volume: 53.256, Taker Buy Quote Asset Volume: 2251000.32130, Ignore: 0\n",
      "Open Time: 1703019600000, Open Price: 42256.20, High Price: 42284.50, Low Price: 42240.20, Close Price: 42257.20, Volume: 97.946, Close Time: 1703019659999, Quote Asset Volume: 4139510.27660, Number of Trades: 1780, Taker Buy Base Asset Volume: 33.481, Taker Buy Quote Asset Volume: 1415016.23400, Ignore: 0\n",
      "Open Time: 1703019660000, Open Price: 42257.20, High Price: 42323.30, Low Price: 42253.10, Close Price: 42317.60, Volume: 367.406, Close Time: 1703019719999, Quote Asset Volume: 15541235.44320, Number of Trades: 3159, Taker Buy Base Asset Volume: 283.683, Taker Buy Quote Asset Volume: 11999100.60090, Ignore: 0\n",
      "Open Time: 1703019720000, Open Price: 42317.60, High Price: 42333.30, Low Price: 42295.50, Close Price: 42295.70, Volume: 135.251, Close Time: 1703019779999, Quote Asset Volume: 5723673.32710, Number of Trades: 1941, Taker Buy Base Asset Volume: 55.485, Taker Buy Quote Asset Volume: 2348237.90790, Ignore: 0\n",
      "Open Time: 1703019780000, Open Price: 42295.60, High Price: 42314.50, Low Price: 42285.40, Close Price: 42314.40, Volume: 101.963, Close Time: 1703019839999, Quote Asset Volume: 4313251.10740, Number of Trades: 1481, Taker Buy Base Asset Volume: 53.337, Taker Buy Quote Asset Volume: 2256213.90530, Ignore: 0\n",
      "Open Time: 1703019840000, Open Price: 42314.30, High Price: 42314.40, Low Price: 42286.00, Close Price: 42291.60, Volume: 92.876, Close Time: 1703019899999, Quote Asset Volume: 3928788.86550, Number of Trades: 1285, Taker Buy Base Asset Volume: 33.902, Taker Buy Quote Asset Volume: 1433963.23200, Ignore: 0\n",
      "Open Time: 1703019900000, Open Price: 42291.60, High Price: 42301.70, Low Price: 42287.40, Close Price: 42293.90, Volume: 51.726, Close Time: 1703019959999, Quote Asset Volume: 2187704.87810, Number of Trades: 957, Taker Buy Base Asset Volume: 20.955, Taker Buy Quote Asset Volume: 886243.13960, Ignore: 0\n",
      "Open Time: 1703019960000, Open Price: 42293.90, High Price: 42294.00, Low Price: 42291.00, Close Price: 42293.00, Volume: 12.978, Close Time: 1703020019999, Quote Asset Volume: 548861.85870, Number of Trades: 157, Taker Buy Base Asset Volume: 7.436, Taker Buy Quote Asset Volume: 314477.36410, Ignore: 0\n"
     ]
    }
   ],
   "source": [
    "kline_response = um_futures_client.klines(\"BTCUSDT\", \"1m\",limit=10)\n",
    "for kline in kline_response:\n",
    "    open_time = kline[0]\n",
    "    open_price = kline[1]\n",
    "    high_price = kline[2]\n",
    "    low_price = kline[3]\n",
    "    close_price = kline[4]\n",
    "    volume = kline[5]\n",
    "    close_time = kline[6]\n",
    "    quote_asset_volume = kline[7]\n",
    "    number_of_trades = kline[8]\n",
    "    taker_buy_base_asset_volume = kline[9]\n",
    "    taker_buy_quote_asset_volume = kline[10]\n",
    "    ignore = kline[11]\n",
    "    print(f\"Open Time: {open_time}, Open Price: {open_price}, High Price: {high_price}, Low Price: {low_price}, Close Price: {close_price}, Volume: {volume}, Close Time: {close_time}, Quote Asset Volume: {quote_asset_volume}, Number of Trades: {number_of_trades}, Taker Buy Base Asset Volume: {taker_buy_base_asset_volume}, Taker Buy Quote Asset Volume: {taker_buy_quote_asset_volume}, Ignore: {ignore}\")"
   ]
  }
 ],
 "metadata": {
  "kernelspec": {
   "display_name": "Python 3 (ipykernel)",
   "language": "python",
   "name": "python3"
  },
  "language_info": {
   "codemirror_mode": {
    "name": "ipython",
    "version": 3
   },
   "file_extension": ".py",
   "mimetype": "text/x-python",
   "name": "python",
   "nbconvert_exporter": "python",
   "pygments_lexer": "ipython3",
   "version": "3.11.0rc1"
  }
 },
 "nbformat": 4,
 "nbformat_minor": 2
}
